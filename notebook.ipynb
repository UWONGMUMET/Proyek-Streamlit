{
  "cells": [
    {
      "cell_type": "markdown",
      "metadata": {
        "id": "vpe55jdGT7FP"
      },
      "source": [
        "# Proyek Analisis Data: Air Quality Dataset\n",
        "- **Nama:** Firman Hasibuan\n",
        "- **Email:** firmanhasibuan14042004@gmail.com\n",
        "- **ID Dicoding:**"
      ]
    },
    {
      "cell_type": "markdown",
      "metadata": {
        "id": "ZcS9beSFVfb8"
      },
      "source": [
        "## Menentukan Pertanyaan Bisnis"
      ]
    },
    {
      "cell_type": "markdown",
      "metadata": {
        "id": "9CGuRUTWbwCN"
      },
      "source": [
        "- Pertanyaan 1\n",
        "- Pertanyaan 2"
      ]
    },
    {
      "cell_type": "markdown",
      "metadata": {
        "id": "Pfjl9yCabyJG"
      },
      "source": [
        "## Import Semua Packages/Library yang Digunakan"
      ]
    },
    {
      "cell_type": "code",
      "execution_count": 1,
      "metadata": {
        "id": "gb2YLFc9bzUV"
      },
      "outputs": [],
      "source": [
        "import pandas as pd\n",
        "import numpy as np\n",
        "import matplotlib.pyplot as plt\n",
        "import seaborn as sns"
      ]
    },
    {
      "cell_type": "markdown",
      "metadata": {
        "id": "uXgSXKIrb3hS"
      },
      "source": [
        "## Data Wrangling"
      ]
    },
    {
      "cell_type": "markdown",
      "metadata": {
        "id": "RasRfBi4b7WJ"
      },
      "source": [
        "### Gathering Data"
      ]
    },
    {
      "cell_type": "code",
      "execution_count": 2,
      "metadata": {
        "id": "agDhcrvcT6mv"
      },
      "outputs": [],
      "source": [
        "# df1 = pd.read_csv('/content/PRSA_Data_Aotizhongxin_20130301-20170228.csv')\n",
        "# df2 = pd.read_csv('/content/PRSA_Data_Changping_20130301-20170228.csv')\n",
        "# df3 = pd.read_csv('/content/PRSA_Data_Dingling_20130301-20170228.csv')\n",
        "# df4 = pd.read_csv('/content/PRSA_Data_Dongsi_20130301-20170228.csv')\n",
        "# df5 = pd.read_csv('/content/PRSA_Data_Guanyuan_20130301-20170228.csv')\n",
        "# df6 = pd.read_csv('/content/PRSA_Data_Gucheng_20130301-20170228.csv')\n",
        "# df7 = pd.read_csv('/content/PRSA_Data_Huairou_20130301-20170228.csv')\n",
        "# df8 = pd.read_csv('/content/PRSA_Data_Nongzhanguan_20130301-20170228.csv')\n",
        "# df9 = pd.read_csv('/content/PRSA_Data_Shunyi_20130301-20170228.csv')\n",
        "# df10 = pd.read_csv('/content/PRSA_Data_Tiantan_20130301-20170228.csv')\n",
        "# df11 = pd.read_csv('/content/PRSA_Data_Wanliu_20130301-20170228.csv')\n",
        "# df12 = pd.read_csv('/content/PRSA_Data_Wanshouxigong_20130301-20170228.csv')"
      ]
    },
    {
      "cell_type": "code",
      "execution_count": 3,
      "metadata": {
        "id": "VwVuWczlcmnu"
      },
      "outputs": [],
      "source": [
        "# df1 = df1[df1['year'] == 2017]\n",
        "# df2 = df2[df2['year'] == 2017]\n",
        "# df3 = df3[df3['year'] == 2017]\n",
        "# df4 = df4[df4['year'] == 2017]\n",
        "# df5 = df5[df5['year'] == 2017]\n",
        "# df6 = df6[df6['year'] == 2017]\n",
        "# df7 = df7[df7['year'] == 2017]\n",
        "# df8 = df8[df8['year'] == 2017]\n",
        "# df9 = df9[df9['year'] == 2017]\n",
        "# df10 = df10[df10['year'] == 2017]\n",
        "# df11 = df11[df11['year'] == 2017]\n",
        "# df12 = df12[df12['year'] == 2017]"
      ]
    },
    {
      "cell_type": "code",
      "execution_count": 4,
      "metadata": {
        "id": "FvJal414cb7H"
      },
      "outputs": [],
      "source": [
        "# df = pd.concat([df1, df2, df3, df4, df5, df6, df7, df8, df9, df10, df11, df12])\n",
        "# df.to_csv('PRSA_ALL_DATA.csv', index=False)"
      ]
    },
    {
      "cell_type": "code",
      "execution_count": 7,
      "metadata": {
        "colab": {
          "base_uri": "https://localhost:8080/",
          "height": 206
        },
        "id": "dZMPuUogCuvH",
        "outputId": "64d262fa-14a9-4073-969d-8ad2f56c0aaa"
      },
      "outputs": [
        {
          "data": {
            "text/html": [
              "<div>\n",
              "<style scoped>\n",
              "    .dataframe tbody tr th:only-of-type {\n",
              "        vertical-align: middle;\n",
              "    }\n",
              "\n",
              "    .dataframe tbody tr th {\n",
              "        vertical-align: top;\n",
              "    }\n",
              "\n",
              "    .dataframe thead th {\n",
              "        text-align: right;\n",
              "    }\n",
              "</style>\n",
              "<table border=\"1\" class=\"dataframe\">\n",
              "  <thead>\n",
              "    <tr style=\"text-align: right;\">\n",
              "      <th></th>\n",
              "      <th>No</th>\n",
              "      <th>year</th>\n",
              "      <th>month</th>\n",
              "      <th>day</th>\n",
              "      <th>hour</th>\n",
              "      <th>PM2.5</th>\n",
              "      <th>PM10</th>\n",
              "      <th>SO2</th>\n",
              "      <th>NO2</th>\n",
              "      <th>CO</th>\n",
              "      <th>O3</th>\n",
              "      <th>TEMP</th>\n",
              "      <th>PRES</th>\n",
              "      <th>DEWP</th>\n",
              "      <th>RAIN</th>\n",
              "      <th>wd</th>\n",
              "      <th>WSPM</th>\n",
              "      <th>station</th>\n",
              "    </tr>\n",
              "  </thead>\n",
              "  <tbody>\n",
              "    <tr>\n",
              "      <th>0</th>\n",
              "      <td>33649</td>\n",
              "      <td>2017</td>\n",
              "      <td>1</td>\n",
              "      <td>1</td>\n",
              "      <td>0</td>\n",
              "      <td>485.0</td>\n",
              "      <td>496.0</td>\n",
              "      <td>8.0</td>\n",
              "      <td>121.0</td>\n",
              "      <td>6100.0</td>\n",
              "      <td>4.0</td>\n",
              "      <td>-4.7</td>\n",
              "      <td>1022.1</td>\n",
              "      <td>-6.1</td>\n",
              "      <td>0.0</td>\n",
              "      <td>ENE</td>\n",
              "      <td>1.0</td>\n",
              "      <td>Aotizhongxin</td>\n",
              "    </tr>\n",
              "    <tr>\n",
              "      <th>1</th>\n",
              "      <td>33650</td>\n",
              "      <td>2017</td>\n",
              "      <td>1</td>\n",
              "      <td>1</td>\n",
              "      <td>1</td>\n",
              "      <td>477.0</td>\n",
              "      <td>497.0</td>\n",
              "      <td>7.0</td>\n",
              "      <td>113.0</td>\n",
              "      <td>6300.0</td>\n",
              "      <td>4.0</td>\n",
              "      <td>-5.2</td>\n",
              "      <td>1022.3</td>\n",
              "      <td>-6.4</td>\n",
              "      <td>0.0</td>\n",
              "      <td>E</td>\n",
              "      <td>0.7</td>\n",
              "      <td>Aotizhongxin</td>\n",
              "    </tr>\n",
              "    <tr>\n",
              "      <th>2</th>\n",
              "      <td>33651</td>\n",
              "      <td>2017</td>\n",
              "      <td>1</td>\n",
              "      <td>1</td>\n",
              "      <td>2</td>\n",
              "      <td>454.0</td>\n",
              "      <td>469.0</td>\n",
              "      <td>7.0</td>\n",
              "      <td>111.0</td>\n",
              "      <td>6200.0</td>\n",
              "      <td>4.0</td>\n",
              "      <td>-5.4</td>\n",
              "      <td>1022.5</td>\n",
              "      <td>-6.5</td>\n",
              "      <td>0.0</td>\n",
              "      <td>ENE</td>\n",
              "      <td>1.1</td>\n",
              "      <td>Aotizhongxin</td>\n",
              "    </tr>\n",
              "    <tr>\n",
              "      <th>3</th>\n",
              "      <td>33652</td>\n",
              "      <td>2017</td>\n",
              "      <td>1</td>\n",
              "      <td>1</td>\n",
              "      <td>3</td>\n",
              "      <td>418.0</td>\n",
              "      <td>425.0</td>\n",
              "      <td>6.0</td>\n",
              "      <td>109.0</td>\n",
              "      <td>5900.0</td>\n",
              "      <td>3.0</td>\n",
              "      <td>-5.2</td>\n",
              "      <td>1022.5</td>\n",
              "      <td>-6.2</td>\n",
              "      <td>0.0</td>\n",
              "      <td>E</td>\n",
              "      <td>1.1</td>\n",
              "      <td>Aotizhongxin</td>\n",
              "    </tr>\n",
              "    <tr>\n",
              "      <th>4</th>\n",
              "      <td>33653</td>\n",
              "      <td>2017</td>\n",
              "      <td>1</td>\n",
              "      <td>1</td>\n",
              "      <td>4</td>\n",
              "      <td>438.0</td>\n",
              "      <td>468.0</td>\n",
              "      <td>10.0</td>\n",
              "      <td>123.0</td>\n",
              "      <td>7700.0</td>\n",
              "      <td>16.0</td>\n",
              "      <td>-5.0</td>\n",
              "      <td>1021.9</td>\n",
              "      <td>-5.8</td>\n",
              "      <td>0.0</td>\n",
              "      <td>ENE</td>\n",
              "      <td>1.0</td>\n",
              "      <td>Aotizhongxin</td>\n",
              "    </tr>\n",
              "  </tbody>\n",
              "</table>\n",
              "</div>"
            ],
            "text/plain": [
              "      No  year  month  day  hour  PM2.5   PM10   SO2    NO2      CO    O3  \\\n",
              "0  33649  2017      1    1     0  485.0  496.0   8.0  121.0  6100.0   4.0   \n",
              "1  33650  2017      1    1     1  477.0  497.0   7.0  113.0  6300.0   4.0   \n",
              "2  33651  2017      1    1     2  454.0  469.0   7.0  111.0  6200.0   4.0   \n",
              "3  33652  2017      1    1     3  418.0  425.0   6.0  109.0  5900.0   3.0   \n",
              "4  33653  2017      1    1     4  438.0  468.0  10.0  123.0  7700.0  16.0   \n",
              "\n",
              "   TEMP    PRES  DEWP  RAIN   wd  WSPM       station  \n",
              "0  -4.7  1022.1  -6.1   0.0  ENE   1.0  Aotizhongxin  \n",
              "1  -5.2  1022.3  -6.4   0.0    E   0.7  Aotizhongxin  \n",
              "2  -5.4  1022.5  -6.5   0.0  ENE   1.1  Aotizhongxin  \n",
              "3  -5.2  1022.5  -6.2   0.0    E   1.1  Aotizhongxin  \n",
              "4  -5.0  1021.9  -5.8   0.0  ENE   1.0  Aotizhongxin  "
            ]
          },
          "execution_count": 7,
          "metadata": {},
          "output_type": "execute_result"
        }
      ],
      "source": [
        "df = pd.read_csv('data//PRSA_ALL_DATA.csv')\n",
        "df.head()"
      ]
    },
    {
      "cell_type": "markdown",
      "metadata": {
        "id": "3EgK36tefJXy"
      },
      "source": [
        "**Insight:**\n",
        "- xxx\n",
        "- xxx"
      ]
    },
    {
      "cell_type": "markdown",
      "metadata": {
        "id": "gACfnpVuVqvg"
      },
      "source": [
        "## Assessing Data"
      ]
    },
    {
      "cell_type": "code",
      "execution_count": 8,
      "metadata": {
        "colab": {
          "base_uri": "https://localhost:8080/"
        },
        "id": "0-uFWWtQQmfw",
        "outputId": "33c5ac83-2cb4-42e6-906e-65928156bc86"
      },
      "outputs": [
        {
          "name": "stdout",
          "output_type": "stream",
          "text": [
            "<class 'pandas.core.frame.DataFrame'>\n",
            "RangeIndex: 16992 entries, 0 to 16991\n",
            "Data columns (total 18 columns):\n",
            " #   Column   Non-Null Count  Dtype  \n",
            "---  ------   --------------  -----  \n",
            " 0   No       16992 non-null  int64  \n",
            " 1   year     16992 non-null  int64  \n",
            " 2   month    16992 non-null  int64  \n",
            " 3   day      16992 non-null  int64  \n",
            " 4   hour     16992 non-null  int64  \n",
            " 5   PM2.5    16728 non-null  float64\n",
            " 6   PM10     16765 non-null  float64\n",
            " 7   SO2      16747 non-null  float64\n",
            " 8   NO2      16735 non-null  float64\n",
            " 9   CO       16552 non-null  float64\n",
            " 10  O3       16722 non-null  float64\n",
            " 11  TEMP     16858 non-null  float64\n",
            " 12  PRES     16864 non-null  float64\n",
            " 13  DEWP     16858 non-null  float64\n",
            " 14  RAIN     16863 non-null  float64\n",
            " 15  wd       16559 non-null  object \n",
            " 16  WSPM     16912 non-null  float64\n",
            " 17  station  16992 non-null  object \n",
            "dtypes: float64(11), int64(5), object(2)\n",
            "memory usage: 2.3+ MB\n",
            "None\n"
          ]
        }
      ],
      "source": [
        "print(df.info())"
      ]
    },
    {
      "cell_type": "markdown",
      "metadata": {
        "id": "7pBcZvKyfY0q"
      },
      "source": [
        "### value counts"
      ]
    },
    {
      "cell_type": "code",
      "execution_count": 9,
      "metadata": {
        "colab": {
          "base_uri": "https://localhost:8080/"
        },
        "id": "EeNLyiLvfYaW",
        "outputId": "f8d3ee33-d993-4ce4-c3a5-e680be425daa"
      },
      "outputs": [
        {
          "name": "stdout",
          "output_type": "stream",
          "text": [
            "=====year=====\n",
            "Unique values in year: [2017]\n",
            "Number of unique values in year: 1\n",
            "\n",
            "=====month=====\n",
            "Unique values in month: [1 2]\n",
            "Number of unique values in month: 2\n",
            "\n",
            "=====station=====\n",
            "Unique values in station: ['Aotizhongxin' 'Changping' 'Dingling' 'Dongsi' 'Guanyuan' 'Gucheng'\n",
            " 'Huairou' 'Nongzhanguan' 'Shunyi' 'Tiantan' 'Wanliu' 'Wanshouxigong']\n",
            "Number of unique values in station: 12\n",
            "\n"
          ]
        }
      ],
      "source": [
        "objects = [col for col in df.columns if df[col].nunique() <= 12]\n",
        "for col in objects:\n",
        "    print(f\"====={col}=====\")\n",
        "    unique_values = df[col].unique()\n",
        "    n_unique_values = df[col].nunique()\n",
        "\n",
        "    print(f\"Unique values in {col}: {unique_values}\")\n",
        "    print(f\"Number of unique values in {col}: {n_unique_values}\\n\")"
      ]
    },
    {
      "cell_type": "markdown",
      "metadata": {
        "id": "rYkkBaIafMNH"
      },
      "source": [
        "**Insight:**\n",
        "- xxx\n",
        "- xxx"
      ]
    },
    {
      "cell_type": "markdown",
      "metadata": {
        "id": "eTNudsF7c8EG"
      },
      "source": [
        "### Cleaning Data"
      ]
    },
    {
      "cell_type": "markdown",
      "metadata": {
        "id": "CTcukBblc-wz"
      },
      "source": [
        "#### Check Missing Values"
      ]
    },
    {
      "cell_type": "code",
      "execution_count": null,
      "metadata": {
        "colab": {
          "base_uri": "https://localhost:8080/",
          "height": 649
        },
        "id": "XcNyFXstTMwn",
        "outputId": "7595f3ec-aef6-4cb6-9b24-3ec006ce8791"
      },
      "outputs": [],
      "source": [
        "df.isnull().sum()"
      ]
    },
    {
      "cell_type": "code",
      "execution_count": 9,
      "metadata": {
        "id": "VXjiUhwTdhjQ"
      },
      "outputs": [],
      "source": [
        "def hmv(df, method, columns):\n",
        "  if method == 'mean':\n",
        "    fill_val = df[columns].mean()\n",
        "  elif method == 'median':\n",
        "    fill_val = df[columns].median()\n",
        "  elif method == 'modus':\n",
        "    fill_val = df[columns].mode().iloc[0]\n",
        "\n",
        "  df[columns] = df[columns].fillna(fill_val)\n",
        "  return df"
      ]
    },
    {
      "cell_type": "code",
      "execution_count": 10,
      "metadata": {
        "id": "CdkHbM66dtCu"
      },
      "outputs": [],
      "source": [
        "numeric_columns = [col for col in df.select_dtypes(include=['float64', 'int64']).columns if df[col].isnull().any()]\n",
        "categorical_columns = [col for col in df.select_dtypes(include=['object']).columns if df[col].isnull().any()]\n",
        "df = hmv(df, 'median', numeric_columns)\n",
        "df = hmv(df, 'modus', categorical_columns)"
      ]
    },
    {
      "cell_type": "code",
      "execution_count": null,
      "metadata": {
        "colab": {
          "base_uri": "https://localhost:8080/",
          "height": 649
        },
        "id": "PySVlBfQdizW",
        "outputId": "da9212c6-a073-4037-cb51-f60e9f63c680"
      },
      "outputs": [],
      "source": [
        "df.isnull().sum()"
      ]
    },
    {
      "cell_type": "markdown",
      "metadata": {
        "id": "9En4lx06WHO4"
      },
      "source": [
        "## Duplicated Data"
      ]
    },
    {
      "cell_type": "code",
      "execution_count": null,
      "metadata": {
        "colab": {
          "base_uri": "https://localhost:8080/"
        },
        "id": "72uzf-WkWEU6",
        "outputId": "c3d788f7-dd76-4f9b-8070-141303b046bc"
      },
      "outputs": [],
      "source": [
        "print(\"Jumlah duplikasi: \", df.duplicated().sum())"
      ]
    },
    {
      "cell_type": "code",
      "execution_count": 13,
      "metadata": {
        "id": "Iu6IdIHPs0AM"
      },
      "outputs": [],
      "source": [
        "df.to_csv('PRSA_DATA_CLEAN.csv', index=False)"
      ]
    },
    {
      "cell_type": "markdown",
      "metadata": {
        "id": "SmwSsk1NfP-t"
      },
      "source": [
        "**Insight:**\n",
        "- xxx\n",
        "- xxx"
      ]
    },
    {
      "cell_type": "markdown",
      "metadata": {
        "id": "p3WjH2g_fGIX"
      },
      "source": [
        "## Exploratory Data Analysis (EDA)"
      ]
    },
    {
      "cell_type": "markdown",
      "metadata": {
        "id": "gc49IhhtfdVo"
      },
      "source": [
        "### Histogram Plot"
      ]
    },
    {
      "cell_type": "code",
      "execution_count": null,
      "metadata": {
        "colab": {
          "base_uri": "https://localhost:8080/",
          "height": 805
        },
        "id": "hpg5wqB2f5-w",
        "outputId": "45149cb8-a618-41a8-8147-d0c17e7ac323"
      },
      "outputs": [],
      "source": [
        "columns = [col for col in df.columns if df[col].dtype in ['float64', 'int64'] and col not in ['No', 'year']]\n",
        "fig, axes = plt.subplots(4, 4, figsize=(16, 8))\n",
        "axes = axes.flatten()\n",
        "for i, col in enumerate(columns):\n",
        "  ax = sns.histplot(data=df, x=col, ax=axes[i], kde=True)\n",
        "\n",
        "  ax.set_title(f'{col} Distribution')\n",
        "  ax.set_xlabel(f'{col}')\n",
        "\n",
        "for j in range(i+1, len(axes)):\n",
        "  fig.delaxes(axes[j])\n",
        "\n",
        "fig.suptitle('Distribution of Features per Dataset')\n",
        "plt.tight_layout()\n",
        "plt.show()"
      ]
    },
    {
      "cell_type": "markdown",
      "metadata": {
        "id": "Y3oAvcF5Ex1h"
      },
      "source": [
        "### Categorical Plot (Pie and Bar Plot)"
      ]
    },
    {
      "cell_type": "code",
      "execution_count": null,
      "metadata": {
        "colab": {
          "base_uri": "https://localhost:8080/",
          "height": 609
        },
        "id": "UlBdkBkvgfZf",
        "outputId": "a5598d3a-27e2-4d66-8cac-18d87fc1568f"
      },
      "outputs": [],
      "source": [
        "obj = [col for col in df.columns if df[col].nunique() <= 12 and col not in ['year']]\n",
        "\n",
        "fig, axes = plt.subplots(len(obj), 2, figsize=(12, 3 * len(obj)))\n",
        "\n",
        "for i, column in enumerate(obj):\n",
        "  ax = axes[i, 0]\n",
        "  ax.pie(\n",
        "      df[column].value_counts(),\n",
        "      shadow=True,\n",
        "      explode=[0.1 for _ in range(df[column].nunique())],\n",
        "      autopct='%1.f%%'\n",
        "  )\n",
        "  ax.set_aspect('equal')\n",
        "  ax.set_title(f'{column} Pie Chart')\n",
        "\n",
        "  ax1 = axes[i, 1]\n",
        "  sns.countplot(y=column, ax=ax1, order=df[column].value_counts().index, data=df)\n",
        "  ax1.set_xlabel('Count')\n",
        "  ax1.set_ylabel(column)\n",
        "  ax1.set_title(f'{column} Countplot')\n",
        "\n",
        "fig.suptitle('Distribution of Categorical Features in Dataset\\n\\n\\n')\n",
        "plt.tight_layout()\n",
        "plt.show()"
      ]
    },
    {
      "cell_type": "code",
      "execution_count": null,
      "metadata": {
        "colab": {
          "base_uri": "https://localhost:8080/",
          "height": 1000
        },
        "id": "dNFnWqY-gwvl",
        "outputId": "86d8d226-5e71-46cd-ad06-20630a4c6ec4"
      },
      "outputs": [],
      "source": [
        "# import warnings\n",
        "# warnings.simplefilter(action='ignore', category=FutureWarning)\n",
        "\n",
        "columns = [col for col in df.columns if df[col].dtype in ['float64', 'int64'] and col not in ['No', 'year', 'month']]\n",
        "fig, axes = plt.subplots(4, 4, figsize=(16, 8))\n",
        "axes = axes.flatten()\n",
        "\n",
        "for i, col in enumerate(columns):\n",
        "  ax = sns.boxplot(y=col, data=df, ax=axes[i])\n",
        "  ax.set_title(f'{col} Distribution')\n",
        "  ax.set_xlabel(f'{col}')\n",
        "\n",
        "for j in range(i+1, len(axes)):\n",
        "  fig.delaxes(axes[j])\n",
        "\n",
        "fig.suptitle('Distribution of Features per Dataset')\n",
        "plt.tight_layout()\n",
        "plt.show()"
      ]
    },
    {
      "cell_type": "code",
      "execution_count": null,
      "metadata": {
        "colab": {
          "base_uri": "https://localhost:8080/",
          "height": 807
        },
        "id": "uO1ivuHehkYv",
        "outputId": "78c0d3a2-d46d-4136-eb7f-84bd344fcbc4"
      },
      "outputs": [],
      "source": [
        "columns = [col for col in df.columns if col not in ['No', 'year'] and df[col].dtype in ['int64', 'float64']]\n",
        "\n",
        "corr = df[columns].corr()\n",
        "plt.figure(figsize=(9, 9))\n",
        "mask = np.zeros_like(corr)\n",
        "mask[np.triu_indices_from(mask)] = True\n",
        "sns.heatmap(corr, mask=mask, annot=True)\n",
        "plt.title('Dataset Correlation Matrix')\n",
        "plt.show()"
      ]
    },
    {
      "cell_type": "markdown",
      "metadata": {
        "id": "rsiyBdm0ffMx"
      },
      "source": [
        "**Insight:**\n",
        "- xxx\n",
        "- xxx"
      ]
    },
    {
      "cell_type": "markdown",
      "metadata": {
        "id": "3L3-pszmfhOG"
      },
      "source": [
        "## Visualization & Explanatory Analysis"
      ]
    },
    {
      "cell_type": "markdown",
      "metadata": {
        "id": "_m2Zm-FWfjPT"
      },
      "source": [
        "### Pertanyaan 1:"
      ]
    },
    {
      "cell_type": "markdown",
      "metadata": {
        "id": "-HUEzh5SflEe"
      },
      "source": [
        "### Pertanyaan 2:"
      ]
    },
    {
      "cell_type": "markdown",
      "metadata": {
        "id": "IsYCKt3mfnAO"
      },
      "source": [
        "**Insight:**\n",
        "- xxx\n",
        "- xxx"
      ]
    },
    {
      "cell_type": "markdown",
      "metadata": {
        "id": "r-4Gd17Rfo7I"
      },
      "source": [
        "## Analisis Lanjutan (Opsional)"
      ]
    },
    {
      "cell_type": "markdown",
      "metadata": {
        "id": "dM4z8eYmfquc"
      },
      "source": [
        "## Conclusion"
      ]
    },
    {
      "cell_type": "markdown",
      "metadata": {
        "id": "KU0gC5eZfsSU"
      },
      "source": [
        "- Conclution pertanyaan 1\n",
        "- Conclution pertanyaan 2"
      ]
    }
  ],
  "metadata": {
    "colab": {
      "provenance": []
    },
    "kernelspec": {
      "display_name": "Python 3",
      "name": "python3"
    },
    "language_info": {
      "codemirror_mode": {
        "name": "ipython",
        "version": 3
      },
      "file_extension": ".py",
      "mimetype": "text/x-python",
      "name": "python",
      "nbconvert_exporter": "python",
      "pygments_lexer": "ipython3",
      "version": "3.12.6"
    }
  },
  "nbformat": 4,
  "nbformat_minor": 0
}
